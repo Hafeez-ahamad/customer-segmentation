# Import libraries
import pandas as pd
import numpy as np
import matplotlib.pyplot as plt
import seaborn as sns
from sklearn.cluster import KMeans
from sklearn.preprocessing import StandardScaler
import joblib

# Load data
data = pd.read_csv('../data/customer_data.csv')

# EDA: Pairplot to visualize relationships
sns.pairplot(data)
plt.savefig('../results/customer_segments.png')
plt.show()

# Preprocessing: Standardize the data
scaler = StandardScaler()
scaled_data = scaler.fit_transform(data)

# Determine optimal number of clusters using the Elbow Method
inertia = []
for k in range(1, 11):
    kmeans = KMeans(n_clusters=k, random_state=42)
    kmeans.fit(scaled_data)
    inertia.append(kmeans.inertia_)

plt.figure(figsize=(10, 6))
plt.plot(range(1, 11), inertia, marker='o')
plt.title('Elbow Method for Optimal K')
plt.xlabel('Number of Clusters')
plt.ylabel('Inertia')
plt.savefig('../results/elbow_method.png')
plt.show()

# Fit K-Means model
kmeans = KMeans(n_clusters=4, random_state=42)  # Example: 4 clusters
kmeans.fit(scaled_data)

# Save model
joblib.dump(kmeans, '../models/kmeans_model.pkl')

# Add cluster labels to the data
data['Cluster'] = kmeans.labels_

# Visualize clusters
plt.figure(figsize=(10, 6))
sns.scatterplot(x=data.iloc[:, 0], y=data.iloc[:, 1], hue=data['Cluster'], palette='viridis')
plt.title('Customer Segmentation using K-Means Clustering')
plt.xlabel('Feature 1')
plt.ylabel('Feature 2')
plt.savefig('../results/clustering_results.png')
plt.show()
